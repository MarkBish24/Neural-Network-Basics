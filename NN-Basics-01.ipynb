{
 "cells": [
  {
   "cell_type": "code",
   "execution_count": 5,
   "id": "91ac0c1c-f05d-446b-a8fa-4fd0b606bf46",
   "metadata": {},
   "outputs": [
    {
     "name": "stdout",
     "output_type": "stream",
     "text": [
      "[[ 5.51     1.6025  -3.55225]\n",
      " [ 4.0556  -0.96    -0.83428]\n",
      " [ 6.96    -1.2765  -1.32695]]\n"
     ]
    }
   ],
   "source": [
    "import numpy as np\n",
    "\n",
    "inputs = [[1,2,3,2.5],\n",
    "          [2,3,-1,2.2],\n",
    "          [-1.5,2,3.3,-0.8]]\n",
    "\n",
    "weights = [[0.2, 0.8, 0.9, -0.3],\n",
    "           [0.5, -0.2, 1, 0.3],\n",
    "           [-0.4, 0.82, 0.17, -0.23]]\n",
    "\n",
    "biases = [2,3,0.5]\n",
    "\n",
    "# Now weights2 has shape (3 neurons × 3 inputs)\n",
    "weights2 = [[0.7, -0.1, 0.4],\n",
    "            [-0.3, 0.9, -0.5],\n",
    "            [0.1, -0.8, 0.33]]\n",
    "\n",
    "biases2 = [1.5, -2, 0.8]\n",
    "\n",
    "inputs_array = np.array(inputs)\n",
    "weights_array = np.array(weights)\n",
    "biases_array = np.array(biases)\n",
    "weights2_array = np.array(weights2)\n",
    "biases2_array = np.array(biases2)\n",
    "\n",
    "# Layer 1\n",
    "layer1_outputs = np.dot(inputs_array, weights_array.T) + biases_array\n",
    "\n",
    "# Layer 2\n",
    "layer2_outputs = np.dot(layer1_outputs, weights2_array.T) + biases2_array\n",
    "\n",
    "print(layer2_outputs)\n",
    "\n"
   ]
  },
  {
   "cell_type": "code",
   "execution_count": null,
   "id": "18416df9-b7ae-432c-9ed4-2c8c378b0d9d",
   "metadata": {},
   "outputs": [],
   "source": []
  }
 ],
 "metadata": {
  "kernelspec": {
   "display_name": "Python 3 (ipykernel)",
   "language": "python",
   "name": "python3"
  },
  "language_info": {
   "codemirror_mode": {
    "name": "ipython",
    "version": 3
   },
   "file_extension": ".py",
   "mimetype": "text/x-python",
   "name": "python",
   "nbconvert_exporter": "python",
   "pygments_lexer": "ipython3",
   "version": "3.10.16"
  }
 },
 "nbformat": 4,
 "nbformat_minor": 5
}

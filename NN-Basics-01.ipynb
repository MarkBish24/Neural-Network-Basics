{
 "cells": [
  {
   "cell_type": "code",
   "execution_count": 4,
   "id": "91ac0c1c-f05d-446b-a8fa-4fd0b606bf46",
   "metadata": {},
   "outputs": [
    {
     "ename": "ValueError",
     "evalue": "shapes (3,3) and (4,3) not aligned: 3 (dim 1) != 4 (dim 0)",
     "output_type": "error",
     "traceback": [
      "\u001b[1;31m---------------------------------------------------------------------------\u001b[0m",
      "\u001b[1;31mValueError\u001b[0m                                Traceback (most recent call last)",
      "Cell \u001b[1;32mIn[4], line 29\u001b[0m\n\u001b[0;32m     26\u001b[0m layer1_outputs \u001b[38;5;241m=\u001b[39m np\u001b[38;5;241m.\u001b[39mdot(inputs_array, weights_array\u001b[38;5;241m.\u001b[39mT) \u001b[38;5;241m+\u001b[39m biases_array\n\u001b[0;32m     28\u001b[0m \u001b[38;5;66;03m# Layer 2\u001b[39;00m\n\u001b[1;32m---> 29\u001b[0m layer2_outputs \u001b[38;5;241m=\u001b[39m \u001b[43mnp\u001b[49m\u001b[38;5;241;43m.\u001b[39;49m\u001b[43mdot\u001b[49m\u001b[43m(\u001b[49m\u001b[43mlayer1_outputs\u001b[49m\u001b[43m,\u001b[49m\u001b[43m \u001b[49m\u001b[43mweights2_array\u001b[49m\u001b[38;5;241;43m.\u001b[39;49m\u001b[43mT\u001b[49m\u001b[43m)\u001b[49m \u001b[38;5;241m+\u001b[39m biases2_array\n\u001b[0;32m     31\u001b[0m \u001b[38;5;28mprint\u001b[39m(layer2_outputs)\n",
      "\u001b[1;31mValueError\u001b[0m: shapes (3,3) and (4,3) not aligned: 3 (dim 1) != 4 (dim 0)"
     ]
    }
   ],
   "source": [
    "import numpy as np\n",
    "\n",
    "inputs = [[1,2,3,2.5],\n",
    "          [2,3,-1,2.2],\n",
    "          [-1.5,2,3.3,-0.8]]\n",
    "\n",
    "weights = [[0.2, 0.8, 0.9, -0.3],\n",
    "           [0.5, -0.2, 1, 0.3],\n",
    "           [-0.4, 0.82, 0.17, -0.23]]\n",
    "\n",
    "biases = [2,3,0.5]\n",
    "\n",
    "weights2 = [[0.7, -0.1, 0.4, 0.6],\n",
    "            [-0.3, 0.9, -0.5, 0.2],\n",
    "            [0.1, -0.8, 0.33, 0.77]]\n",
    "\n",
    "biases2 = [1.5, -2, 0.8]\n",
    "\n",
    "inputs_array = np.array(inputs)\n",
    "weights_array = np.array(weights)\n",
    "biases_array = np.array(biases)\n",
    "weights2_array = np.array(weights2)\n",
    "biases2_array = np.array(biases2)\n",
    "\n",
    "# Layer 1\n",
    "layer1_outputs = np.dot(inputs_array, weights_array.T) + biases_array\n",
    "\n",
    "# Layer 2\n",
    "layer2_outputs = np.dot(layer1_outputs, weights2_array.T) + biases2_array\n",
    "\n",
    "print(layer2_outputs)\n"
   ]
  },
  {
   "cell_type": "code",
   "execution_count": null,
   "id": "18416df9-b7ae-432c-9ed4-2c8c378b0d9d",
   "metadata": {},
   "outputs": [],
   "source": []
  }
 ],
 "metadata": {
  "kernelspec": {
   "display_name": "Python 3 (ipykernel)",
   "language": "python",
   "name": "python3"
  },
  "language_info": {
   "codemirror_mode": {
    "name": "ipython",
    "version": 3
   },
   "file_extension": ".py",
   "mimetype": "text/x-python",
   "name": "python",
   "nbconvert_exporter": "python",
   "pygments_lexer": "ipython3",
   "version": "3.10.16"
  }
 },
 "nbformat": 4,
 "nbformat_minor": 5
}

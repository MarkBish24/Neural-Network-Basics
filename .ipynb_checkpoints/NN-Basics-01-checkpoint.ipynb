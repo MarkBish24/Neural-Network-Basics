{
 "cells": [
  {
   "cell_type": "code",
   "execution_count": null,
   "id": "91ac0c1c-f05d-446b-a8fa-4fd0b606bf46",
   "metadata": {},
   "outputs": [],
   "source": [
    "import numpy as np\n",
    "\n",
    "inputs = [[1,2,3,2.5],\n",
    "          [2,3,-1,2.2],\n",
    "          [-1.5,2,3.3,-0.8]]\n",
    "weights = [[0.2, 0.8, 0.9, -0.3],\n",
    "           [0.5, -0.2, 1, 0.3],\n",
    "           [-0.4, 0.82, 0.17, -0.23]]\n",
    "biases = [2,3,0.5]"
   ]
  }
 ],
 "metadata": {
  "kernelspec": {
   "display_name": "Python 3 (ipykernel)",
   "language": "python",
   "name": "python3"
  },
  "language_info": {
   "codemirror_mode": {
    "name": "ipython",
    "version": 3
   },
   "file_extension": ".py",
   "mimetype": "text/x-python",
   "name": "python",
   "nbconvert_exporter": "python",
   "pygments_lexer": "ipython3",
   "version": "3.10.16"
  }
 },
 "nbformat": 4,
 "nbformat_minor": 5
}
